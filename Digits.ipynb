{
 "cells": [
  {
   "cell_type": "code",
   "execution_count": 23,
   "id": "a2a6dfc7",
   "metadata": {},
   "outputs": [],
   "source": [
    "import pandas as pd\n",
    "import numpy as np\n",
    "import matplotlib.pyplot as plt\n",
    "import matplotlib.image as mpimg\n",
    "import seaborn as sns\n",
    "from tensorflow import keras\n",
    "from sklearn.model_selection import train_test_split\n",
    "from tensorflow.keras.utils import to_categorical # convert to one-hot-encoding\n",
    "from tensorflow.keras.models import Sequential\n",
    "from tensorflow.keras import layers\n",
    "from tensorflow.keras.optimizers import Adam\n",
    "from tensorflow.keras.preprocessing.image import ImageDataGenerator\n",
    "from tensorflow.keras.callbacks import ReduceLROnPlateau"
   ]
  },
  {
   "cell_type": "code",
   "execution_count": 24,
   "id": "bd0cf74c",
   "metadata": {},
   "outputs": [],
   "source": [
    "train = pd.read_csv(\"../Digits/train.csv\")\n",
    "test = pd.read_csv(\"../Digits/test.csv\")\n",
    "Y_train = train[\"label\"]\n",
    "Y_train.head()\n",
    "X_train = train.drop(labels = [\"label\"],axis = 1) \n"
   ]
  },
  {
   "cell_type": "code",
   "execution_count": 25,
   "id": "8eda488e",
   "metadata": {},
   "outputs": [],
   "source": [
    "X_train = X_train.values.reshape(-1,28,28,1) / 255.0\n",
    "test = test.values.reshape(-1,28,28,1) / 255.0\n",
    "Y_train = to_categorical(Y_train,10)"
   ]
  },
  {
   "cell_type": "code",
   "execution_count": 26,
   "id": "2c1cdbf2",
   "metadata": {},
   "outputs": [],
   "source": [
    "X_train, X_val, Y_train, Y_val = train_test_split(X_train, Y_train, test_size = 0.2, random_state=9)\n"
   ]
  },
  {
   "cell_type": "code",
   "execution_count": 27,
   "id": "29e70612",
   "metadata": {},
   "outputs": [
    {
     "name": "stdout",
     "output_type": "stream",
     "text": [
      "Epoch 1/30\n",
      "336/336 - 62s - loss: 0.3422 - accuracy: 0.8980 - val_loss: 3.1945 - val_accuracy: 0.2782\n",
      "Epoch 2/30\n",
      "336/336 - 61s - loss: 0.0898 - accuracy: 0.9740 - val_loss: 0.0704 - val_accuracy: 0.9793\n",
      "Epoch 3/30\n",
      "336/336 - 64s - loss: 0.0675 - accuracy: 0.9793 - val_loss: 0.0659 - val_accuracy: 0.9788\n",
      "Epoch 4/30\n",
      "336/336 - 62s - loss: 0.0571 - accuracy: 0.9828 - val_loss: 0.0324 - val_accuracy: 0.9906\n",
      "Epoch 5/30\n",
      "336/336 - 61s - loss: 0.0509 - accuracy: 0.9839 - val_loss: 0.0406 - val_accuracy: 0.9890\n",
      "Epoch 6/30\n",
      "336/336 - 61s - loss: 0.0453 - accuracy: 0.9859 - val_loss: 0.0370 - val_accuracy: 0.9892\n",
      "Epoch 7/30\n",
      "336/336 - 61s - loss: 0.0380 - accuracy: 0.9885 - val_loss: 0.0341 - val_accuracy: 0.9902\n",
      "Epoch 8/30\n",
      "336/336 - 61s - loss: 0.0364 - accuracy: 0.9890 - val_loss: 0.0360 - val_accuracy: 0.9894\n",
      "Epoch 9/30\n",
      "336/336 - 61s - loss: 0.0354 - accuracy: 0.9891 - val_loss: 0.0428 - val_accuracy: 0.9880\n",
      "Epoch 10/30\n",
      "336/336 - 61s - loss: 0.0342 - accuracy: 0.9899 - val_loss: 0.0313 - val_accuracy: 0.9904\n",
      "Epoch 11/30\n",
      "336/336 - 61s - loss: 0.0308 - accuracy: 0.9903 - val_loss: 0.0307 - val_accuracy: 0.9915\n",
      "Epoch 12/30\n",
      "336/336 - 61s - loss: 0.0297 - accuracy: 0.9909 - val_loss: 0.0401 - val_accuracy: 0.9879\n",
      "Epoch 13/30\n",
      "336/336 - 61s - loss: 0.0276 - accuracy: 0.9918 - val_loss: 0.0291 - val_accuracy: 0.9911\n",
      "Epoch 14/30\n",
      "336/336 - 61s - loss: 0.0257 - accuracy: 0.9922 - val_loss: 0.0283 - val_accuracy: 0.9919\n",
      "Epoch 15/30\n",
      "336/336 - 61s - loss: 0.0229 - accuracy: 0.9929 - val_loss: 0.0235 - val_accuracy: 0.9927\n",
      "Epoch 16/30\n",
      "336/336 - 61s - loss: 0.0276 - accuracy: 0.9915 - val_loss: 0.0298 - val_accuracy: 0.9913\n",
      "Epoch 17/30\n",
      "336/336 - 61s - loss: 0.0211 - accuracy: 0.9940 - val_loss: 0.0265 - val_accuracy: 0.9923\n",
      "Epoch 18/30\n",
      "336/336 - 62s - loss: 0.0200 - accuracy: 0.9937 - val_loss: 0.0376 - val_accuracy: 0.9896\n",
      "Epoch 19/30\n",
      "336/336 - 60s - loss: 0.0215 - accuracy: 0.9935 - val_loss: 0.0374 - val_accuracy: 0.9900\n",
      "Epoch 20/30\n",
      "336/336 - 60s - loss: 0.0198 - accuracy: 0.9939 - val_loss: 0.0219 - val_accuracy: 0.9937\n",
      "Epoch 21/30\n",
      "336/336 - 60s - loss: 0.0181 - accuracy: 0.9943 - val_loss: 0.0270 - val_accuracy: 0.9919\n",
      "Epoch 22/30\n",
      "336/336 - 61s - loss: 0.0149 - accuracy: 0.9953 - val_loss: 0.0371 - val_accuracy: 0.9912\n",
      "Epoch 23/30\n",
      "336/336 - 60s - loss: 0.0170 - accuracy: 0.9946 - val_loss: 0.0241 - val_accuracy: 0.9937\n",
      "Epoch 24/30\n",
      "336/336 - 61s - loss: 0.0175 - accuracy: 0.9945 - val_loss: 0.0244 - val_accuracy: 0.9942\n",
      "Epoch 25/30\n",
      "336/336 - 61s - loss: 0.0173 - accuracy: 0.9949 - val_loss: 0.0345 - val_accuracy: 0.9910\n",
      "Epoch 26/30\n",
      "336/336 - 60s - loss: 0.0130 - accuracy: 0.9957 - val_loss: 0.0261 - val_accuracy: 0.9927\n",
      "Epoch 27/30\n",
      "336/336 - 61s - loss: 0.0139 - accuracy: 0.9954 - val_loss: 0.0276 - val_accuracy: 0.9927\n",
      "Epoch 28/30\n",
      "336/336 - 61s - loss: 0.0150 - accuracy: 0.9953 - val_loss: 0.0232 - val_accuracy: 0.9939\n",
      "Epoch 29/30\n",
      "336/336 - 60s - loss: 0.0141 - accuracy: 0.9956 - val_loss: 0.0267 - val_accuracy: 0.9933\n",
      "Epoch 30/30\n",
      "336/336 - 61s - loss: 0.0143 - accuracy: 0.9957 - val_loss: 0.0289 - val_accuracy: 0.9918\n"
     ]
    },
    {
     "ename": "NameError",
     "evalue": "name 'test_x' is not defined",
     "output_type": "error",
     "traceback": [
      "\u001b[1;31m---------------------------------------------------------------------------\u001b[0m",
      "\u001b[1;31mNameError\u001b[0m                                 Traceback (most recent call last)",
      "\u001b[1;32m<ipython-input-27-2c2e05b5ea74>\u001b[0m in \u001b[0;36m<module>\u001b[1;34m\u001b[0m\n\u001b[0;32m     38\u001b[0m \u001b[1;33m\u001b[0m\u001b[0m\n\u001b[0;32m     39\u001b[0m evaluation = model.evaluate(\n\u001b[1;32m---> 40\u001b[1;33m      \u001b[0mtest_x\u001b[0m\u001b[1;33m,\u001b[0m\u001b[1;33m\u001b[0m\u001b[1;33m\u001b[0m\u001b[0m\n\u001b[0m\u001b[0;32m     41\u001b[0m      \u001b[0mtest_y\u001b[0m\u001b[1;33m,\u001b[0m\u001b[1;33m\u001b[0m\u001b[1;33m\u001b[0m\u001b[0m\n\u001b[0;32m     42\u001b[0m     batch_size=batch)\n",
      "\u001b[1;31mNameError\u001b[0m: name 'test_x' is not defined"
     ]
    }
   ],
   "source": [
    "model = Sequential();\n",
    "model.add(layers.Conv2D(filters = 32, kernel_size = (5,5), padding = 'Same', \n",
    "                 activation = 'relu', input_shape = (28,28,1)))\n",
    "model.add(layers.Conv2D(filters = 32, kernel_size = (5,5),padding = 'Same', \n",
    "                 activation = 'relu'))\n",
    "model.add(layers.MaxPool2D(pool_size = (3,3), strides = 2))\n",
    "model.add(layers.BatchNormalization())\n",
    "model.add(Dropout(0.3))\n",
    "\n",
    "model.add(layers.Conv2D(filters = 64, kernel_size = (3,3), padding = 'Same', activation = 'relu'))\n",
    "model.add(layers.Conv2D(filters = 64, kernel_size = (2,2),padding = 'Same', \n",
    "                 activation = 'relu'))\n",
    "model.add(layers.MaxPool2D(pool_size = (3,3),strides = 2))\n",
    "model.add(layers.BatchNormalization())\n",
    "model.add(Dropout(0.3))\n",
    "\n",
    "model.add(Flatten())\n",
    "model.add(layers.Dense(256, activation = \"relu\"))\n",
    "model.add(layers.BatchNormalization())\n",
    "model.add(Dropout(0.5))\n",
    "model.add(layers.Dense(128,activation = \"relu\"))\n",
    "model.add(layers.BatchNormalization())\n",
    "model.add(Dropout(0.3))\n",
    "model.add(layers.Dense(64,activation = \"relu\"))\n",
    "model.add(layers.BatchNormalization())\n",
    "\n",
    "\n",
    "model.add(layers.Dense(10, activation = \"softmax\"))\n",
    "\n",
    "optimizer = Adam(lr=0.001, beta_1=0.9, beta_2=0.999)\n",
    "\n",
    "model.compile(optimizer = optimizer , loss = \"categorical_crossentropy\", metrics=[\"accuracy\"])\n",
    "\n",
    "epochs = 30\n",
    "batch_size = 100\n",
    "history = model.fit(X_train, Y_train, batch_size = batch_size, epochs = epochs, \n",
    "    validation_data = (X_val, Y_val), verbose = 2)\n",
    "\n",
    "evaluation = model.evaluate(\n",
    "     test_x, \n",
    "     test_y, \n",
    "    batch_size=batch)\n",
    "print(\"final evaluation on test data\")    \n",
    "print(f\"accuracy: {evaluation[1]}\")\n",
    "print(f\"loss: {evaluation[0]}\")\n"
   ]
  },
  {
   "cell_type": "code",
   "execution_count": null,
   "id": "ae865125",
   "metadata": {},
   "outputs": [],
   "source": []
  },
  {
   "cell_type": "code",
   "execution_count": null,
   "id": "4eb5a371",
   "metadata": {},
   "outputs": [],
   "source": []
  }
 ],
 "metadata": {
  "kernelspec": {
   "display_name": "Python 3",
   "language": "python",
   "name": "python3"
  },
  "language_info": {
   "codemirror_mode": {
    "name": "ipython",
    "version": 3
   },
   "file_extension": ".py",
   "mimetype": "text/x-python",
   "name": "python",
   "nbconvert_exporter": "python",
   "pygments_lexer": "ipython3",
   "version": "3.8.8"
  }
 },
 "nbformat": 4,
 "nbformat_minor": 5
}
